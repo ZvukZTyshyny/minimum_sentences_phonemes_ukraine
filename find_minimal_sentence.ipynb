{
 "cells": [
  {
   "cell_type": "code",
   "execution_count": 1,
   "id": "e4a0548a-3036-45a2-afff-2585757f1b35",
   "metadata": {},
   "outputs": [],
   "source": [
    "import re\n",
    "import numpy as np\n",
    "import time\n",
    "import matplotlib.pyplot as plt\n",
    "import matplotlib.ticker as ticker"
   ]
  },
  {
   "cell_type": "code",
   "execution_count": 2,
   "id": "a41b187b-e8cc-4472-a4b9-427212fb4a12",
   "metadata": {},
   "outputs": [],
   "source": [
    "ALPHABET = \"абвгґдеєжзиіїйклмнопрстуфхцчшщьюя\\'\""
   ]
  },
  {
   "cell_type": "markdown",
   "id": "e61a7c25-94b0-43d4-b709-859cfbc8fcd9",
   "metadata": {},
   "source": [
    "## Правила"
   ]
  },
  {
   "cell_type": "code",
   "execution_count": 3,
   "id": "3e5dd242-c0f2-483d-8ea5-b2e8c852fbea",
   "metadata": {},
   "outputs": [],
   "source": [
    "pairs_idx = dict(zip([s1+s2 for s1 in ALPHABET for s2 in ALPHABET], range(len(ALPHABET)**2)))\n",
    "\n",
    "pattern_clean_1 = '[^\"абвгґдеєжзиіїйклмнопрстуфхцчшщьюя\\' \"]'\n",
    "\n",
    "def symbol_to_symbol(s):   \n",
    "    # правило для реєстрації чергування двох символів. \n",
    "    # символів -> си им мв во ол лі ів\n",
    "    s = s.lower()\n",
    "    s = s.replace('\\+', '')\n",
    "    s = re.sub(pattern_clean_1, '', s)\n",
    "    s = re.sub(' +', ' ', s)\n",
    "    s = s.strip()\n",
    "\n",
    "    pairs = np.zeros([len(ALPHABET)**2], dtype=bool)\n",
    "    \n",
    "    for w in s.split():\n",
    "        for i in range(len(w) - 1):\n",
    "            pair = w[i:i + 2]\n",
    "            pairs[pairs_idx[pair]] = True\n",
    "    return pairs\n",
    "\n",
    "def word_start_symbol_to_end_symbol(s):  \n",
    "    # правило для реєстрації чергування двох символів на початку і у кінці слова. \n",
    "    # Чергування двох символів. -> чя дх св\n",
    "    s = s.lower()\n",
    "    s = s.replace('\\+', '')\n",
    "    s = re.sub(pattern_clean_1, '', s)\n",
    "    s = re.sub(' +', ' ', s)\n",
    "    s = s.strip()\n",
    "    pairs = np.zeros([len(ALPHABET)**2], dtype=bool)\n",
    "    \n",
    "    for w in s.split():\n",
    "        pair = w[0] + w[-1]\n",
    "        pairs[pairs_idx[pair]] = True\n",
    "    return pairs\n",
    "\n",
    "def word_end_symbol_to_pause_to_start_symbol(s):  \n",
    "    # правило для реєстрації чергування двох символів у кінці слова та на початку наступного слова. \n",
    "    # Чергування двох символів. -> яд хс\n",
    "    s = s.lower()\n",
    "    s = s.replace('\\+', '')\n",
    "    s = re.sub(pattern_clean_1, '', s)\n",
    "    s = re.sub(' +', ' ', s)\n",
    "    s = s.strip()\n",
    "    words = s.split()\n",
    "    \n",
    "    pairs = np.zeros([len(ALPHABET)**2], dtype=bool)    \n",
    "    \n",
    "    for i in range(len(words) - 1):\n",
    "        pair = words[i][-1] + words[i][0]\n",
    "        pairs[pairs_idx[pair]] = True\n",
    "    return pairs\n",
    "\n",
    "def sentence_start_symbol_to_end_symbol(s):  \n",
    "    # правило для реєстрації чергування двох символів у на початку і у кінці речення. \n",
    "    # Чергування двох символів. -> чв\n",
    "    s = s.lower()\n",
    "    s = s.replace('\\+', '')\n",
    "    s = re.sub(pattern_clean_1, '', s)\n",
    "    s = re.sub(' +', ' ', s)\n",
    "    s = s.strip()\n",
    "        \n",
    "    pairs = np.zeros([len(ALPHABET)**2], dtype=bool)    \n",
    "    if len(s) == 0:\n",
    "        return pairs\n",
    "    \n",
    "    pair = s[0] + s[-1]\n",
    "    pairs[pairs_idx[pair]] = True\n",
    "    return pairs\n",
    "\n",
    "def word_start_to_end(s):  \n",
    "    # правило для реєстрації чергування двох символів на початку і у кінці слова. \n",
    "    # Чергування двох символів. -> чя дх св\n",
    "    s = s.lower()\n",
    "    s = s.replace('\\+', '')\n",
    "    s = re.sub(pattern_clean_1, '', s)\n",
    "    s = re.sub(' +', ' ', s)\n",
    "    s = s.strip()\n",
    "    words = s.split()\n",
    "        \n",
    "    pairs = np.zeros([len(ALPHABET)**2], dtype=bool)      \n",
    "    \n",
    "    for w in words:        \n",
    "        pair = w[0] + w[-1]\n",
    "        pairs[pairs_idx[pair]] = True    \n",
    "    return pairs\n",
    "\n",
    "def word_not_start_to_not_end(s):  \n",
    "    # правило для реєстрації чергування двох символів не на початку і не у кінці слова. \n",
    "    # Чергування двох символів. -> чя дх св\n",
    "    s = s.lower()\n",
    "    s = s.replace('\\+', '')\n",
    "    s = re.sub(pattern_clean_1, '', s)\n",
    "    s = re.sub(' +', ' ', s)\n",
    "    s = s.strip()\n",
    "    words = s.split()\n",
    "        \n",
    "    pairs = np.zeros([len(ALPHABET)**2], dtype=bool)    \n",
    "    \n",
    "    for w in words:\n",
    "        for i in range(1, len(w) - 2):\n",
    "            pair = w[i:i+2]\n",
    "            pairs[pairs_idx[pair]] = True\n",
    "\n",
    "    return pairs\n",
    "\n",
    "rules = [symbol_to_symbol, \n",
    "         word_start_symbol_to_end_symbol,\n",
    "         word_end_symbol_to_pause_to_start_symbol,\n",
    "         sentence_start_symbol_to_end_symbol,\n",
    "         word_start_to_end,\n",
    "         word_not_start_to_not_end,\n",
    "        ]\n",
    "\n",
    "def all_rules(s):\n",
    "    rule = np.hstack([r(s) for r in rules])\n",
    "    return rule"
   ]
  },
  {
   "cell_type": "code",
   "execution_count": 4,
   "id": "014ac4ce-0cfd-40c7-8d19-a6ce1eff9b16",
   "metadata": {},
   "outputs": [],
   "source": [
    "file = 'data/sentences.txt'"
   ]
  },
  {
   "cell_type": "code",
   "execution_count": 5,
   "id": "2db63a57-9970-420d-8ec6-89c254e75943",
   "metadata": {},
   "outputs": [],
   "source": [
    "pairs = np.zeros([(len(ALPHABET)**2)*len(rules)], dtype=bool)"
   ]
  },
  {
   "cell_type": "markdown",
   "id": "2f2e8ee0-15b4-42e0-a063-06c56f0b681e",
   "metadata": {},
   "source": [
    "## Пошук першого підходящого"
   ]
  },
  {
   "cell_type": "code",
   "execution_count": 6,
   "id": "5067f877-a0c1-470d-9f30-a7f63b74f40b",
   "metadata": {},
   "outputs": [
    {
     "name": "stdout",
     "output_type": "stream",
     "text": [
      "Час: 0.0147\n",
      "Всього речень: 117\n",
      "Оптималька кількість речень: 117\n",
      "Кількість комбінацій символів [абвгґдеєжзиіїйклмнопрстуфхцчшщьюя']: 1156\n",
      "Перекриває чергування букв : 73%\n"
     ]
    }
   ],
   "source": [
    "opt_sent = []\n",
    "time_start = time.time()\n",
    "sentence_read = 0\n",
    "time_start = time.time()\n",
    "with open(file, 'r') as fd:\n",
    "    for i, s in enumerate(fd):    \n",
    "        sentence_read += 1\n",
    "        s = s.strip()\n",
    "        s_raw = s\n",
    "\n",
    "        s = re.sub('[\\–\\—«\\:\\»…\\\"/?!—,+]+', '', s)\n",
    "\n",
    "        pair = all_rules(s)\n",
    "        if (pairs < pair).sum() > 0:\n",
    "            pairs |= pair\n",
    "            opt_sent.append(s_raw)\n",
    "\n",
    "print('Час:', f'{time.time() - time_start:.4f}')\n",
    "print('Всього речень:', sentence_read)\n",
    "print('Оптималька кількість речень:', len(opt_sent))\n",
    "print(\"Кількість комбінацій символів [абвгґдеєжзиіїйклмнопрстуфхцчшщьюя\\']:\", len(\"абвгґдеєжзиіїйклмнопрстуфхцчшщьюя'\")**2)\n",
    "print('Перекриває чергування букв :', f'{int(100*(pairs[:len(ALPHABET)**2]).sum()/1156)}%')"
   ]
  },
  {
   "cell_type": "markdown",
   "id": "2b85c0e8-72f5-44ad-a1f7-c8ae6545bff7",
   "metadata": {},
   "source": [
    "## Роздрукувати відсутні пари"
   ]
  },
  {
   "cell_type": "code",
   "execution_count": 7,
   "id": "c092e8fa-105b-4876-ba74-80360c71455c",
   "metadata": {},
   "outputs": [
    {
     "name": "stdout",
     "output_type": "stream",
     "text": [
      "['аа', 'ае', 'аи', 'аі', 'ао', 'аь', 'ая', 'бє', 'бї', 'бй', 'бь', 'бю', 'бя', 'вє', 'вї', 'вй', 'вм', 'вь', 'вю', 'вя', 'гї', 'гй', 'гь', 'гю', 'гя', 'ґє', 'ґї', 'ґй', 'ґь', 'ґю', 'дє', 'дї', 'дй', 'дю', 'ее', 'еи', 'еі', 'еу', 'еь', 'єа', 'єб', 'єг', 'єґ', 'єе', 'єє', 'єж', 'єз', 'єі', 'єй', 'єл', 'єо', 'єп', 'єу', 'єх', 'єщ', 'єь', 'єя', 'жє', 'жт', 'жщ', 'жь', 'жю', 'зє', 'зї', 'зй', 'зь', 'иа', 'ие', 'иі', 'ио', 'иу', 'иь', 'ию', 'іе', 'іі', 'іу', 'іь', 'їа', 'їб', 'їг', 'їґ', 'їе', 'їє', 'їі', 'їй', 'їк', 'їл', 'їо', 'їп', 'їр', 'їф', 'їц', 'їч', 'їш', 'їщ', 'їь', 'їя', 'йа', 'йг', 'йґ', 'йе', 'йє', 'йж', 'йз', 'йи', 'йі', 'йї', 'йй', 'йр', 'йу', 'йф', 'йх', 'йщ', 'йь', 'йю', 'йя', 'кґ', 'кє', 'кж', 'кь', 'кя', 'лє', 'лй', 'мґ', 'мє', 'мй', 'мь', 'мю', 'нл', 'оа', 'ое', 'ои', 'оі', 'оо', 'оь', 'пє', 'пж', 'пз', 'пй', 'пь', 'пю', 'пя', 'рє', 'рї', 'рй', 'сґ', 'сж', 'сй', 'сщ', 'тє', 'тй', 'уе', 'уи', 'уі', 'уй', 'уу', 'уц', 'уь', 'уя', 'фв', 'фд', 'фє', 'фз', 'фй', 'фп', 'фх', 'фщ', 'фь', 'фя', 'хб', 'хд', 'хє', 'хз', 'хф', 'хь', 'хю', 'хя', 'цє', 'цй', 'цх', 'цч', 'цю', 'чг', 'чд', 'чє', 'чф', 'чш', 'чь', 'чю', 'шд', 'шч', 'шь', 'щє', 'щз', 'щп', 'щь', 'щю', 'щя', 'ьа', 'ьб', 'ьґ', 'ьд', 'ье', 'ьж', 'ьз', 'ьи', 'ьі', 'ьї', 'ьй', 'ьл', 'ьп', 'ьр', 'ьу', 'ьх', 'ьч', 'ьь', 'ью', 'ья', 'юа', 'юг', 'юґ', 'юе', 'юз', 'юі', 'юї', 'юй', 'юк', 'юм', 'юо', 'юс', 'юу', 'юф', 'юх', 'юц', 'юш', 'ющ', 'юь', 'юя', 'яа', 'яґ', 'яе', 'яі', 'яї', 'яй', 'яо', 'яп', 'яу', 'яф', 'ях', 'яш', 'ящ', 'яь', 'яя']\n"
     ]
    }
   ],
   "source": [
    "z = []\n",
    "for v in pairs_idx.items():\n",
    "    if pairs[v[1]] == 0:\n",
    "        #print(v[0])\n",
    "        if \"'\" in v[0]:\n",
    "            continue\n",
    "        pr = v[0]\n",
    "        z.append(v[0])\n",
    "print(z)"
   ]
  },
  {
   "cell_type": "markdown",
   "id": "1268f38f-3b94-4a19-b0cf-6da7c848aebe",
   "metadata": {},
   "source": [
    "## Відобразити матрицю зареєстрованих пар"
   ]
  },
  {
   "cell_type": "code",
   "execution_count": 8,
   "id": "5da5674e-0775-4b79-b331-91ec1a838a36",
   "metadata": {},
   "outputs": [],
   "source": [
    "confusion = pairs.reshape(-1, len(ALPHABET),len(ALPHABET))"
   ]
  },
  {
   "cell_type": "code",
   "execution_count": 9,
   "id": "a2f338f2-75eb-4149-8178-78c6432a7647",
   "metadata": {},
   "outputs": [
    {
     "name": "stderr",
     "output_type": "stream",
     "text": [
      "/tmp/ipykernel_968842/2755654901.py:5: UserWarning: FixedFormatter should only be used together with FixedLocator\n",
      "  ax.set_xticklabels([''] + re.findall('.', ALPHABET), rotation=90, size=18)\n",
      "/tmp/ipykernel_968842/2755654901.py:6: UserWarning: FixedFormatter should only be used together with FixedLocator\n",
      "  ax.set_yticklabels([''] + re.findall('.', ALPHABET), size=18)\n"
     ]
    },
    {
     "data": {
      "image/png": "[encoded data removed]",
      "text/plain": [
       "<Figure size 1080x1080 with 2 Axes>"
      ]
     },
     "metadata": {
      "needs_background": "light"
     },
     "output_type": "display_data"
    }
   ],
   "source": [
    "fig, ax = plt.subplots(figsize=(15,15))\n",
    "cax = ax.matshow(confusion[0])\n",
    "fig.colorbar(cax)\n",
    "\n",
    "ax.set_xticklabels([''] + re.findall('.', ALPHABET), rotation=90, size=18)\n",
    "ax.set_yticklabels([''] + re.findall('.', ALPHABET), size=18)\n",
    "\n",
    "ax.xaxis.set_major_locator(ticker.MultipleLocator(1))\n",
    "ax.yaxis.set_major_locator(ticker.MultipleLocator(1))\n",
    "\n",
    "plt.show()"
   ]
  },
  {
   "cell_type": "markdown",
   "id": "3a5d8f30-cb35-48be-984e-5a2b2c949552",
   "metadata": {},
   "source": [
    "## Роздрокувати знайдені речення"
   ]
  },
  {
   "cell_type": "code",
   "execution_count": 10,
   "id": "1d813aa9-72e7-4e9b-b4da-3c527633ba66",
   "metadata": {},
   "outputs": [
    {
     "name": "stdout",
     "output_type": "stream",
     "text": [
      "Фігґан та Фагщой назвали свій винахід Фіндґой.\n",
      "Жирафа на ім'я Ґоґпой подружилася з крокодилом на ім'я Поґхон.\n",
      "Автори проєкту Роґцой порушили ліцензію Оґциня.\n",
      "Пісня Ліґчана стала дуже популярною серед групи Даґшона.\n",
      "Організація Оґяна зареєструвала нову зорю під імям Зоґщиця.\n",
      "Соєина озвучила мультфільм Інжїн та Інжйон про бджілку на імя Лиинта та бобра Ліитон.\n",
      "Крошова одиниця Коїин набула великої популярності.\n",
      "Спектрограма показала що цей матеріал Цоїуна.\n",
      "Фоїюнка це спеціалізований одяг для міжпланетних подорожей.\n",
      "У експертному середовищі є плутанина з назвами Пікін, Пікїн та Пікйон.\n",
      "І там Палїт дізнався у якій халепі Толщана з міста Камїм.\n",
      "Дослідники змогли об'єднати речовини Бухнїн з Бухнйоном при опромінюванні ультрафіолетом.\n",
      "Діти знайшли уламок топґана серед спаленої трави.\n",
      "Шопїнський університет показав косїтівський ефект.\n",
      "Фатїти є дуже небезпечна релігійна течія.\n",
      "Це не можливо зробити в межах фафґівських аксіом.\n",
      "Стажист Кафжинський не витримав фізичного знущання.\n",
      "Деякі люди вимовляють не кофеїн, а кофїн.\n",
      "Нова бактерія нахґот в організмі людини виділяє небезпечний наркотик.\n",
      "Смерч Вихїн є найбільш смертоносним в історії.\n",
      "У поєдинку за владу зійшлися Хихйоти та Бахщити.\n",
      "Ціцґунський метеорит все-таки впав на планету Дідцїн.\n",
      "Акторка Моцщина ледь проскочила у хвіртку що швидко закривається.\n",
      "Чому Чачґан грає і співає, а мені соромно?\n",
      "Ось такі у мене вийшли бочзиські зигзаги.\n",
      "Надскладною сполукою став чїздин.\n",
      "Бенджамін зрозумів що об'єднання енергії Зучйон із Зіайтен знищить все навколо.\n",
      "Журнал Тайчща провів ґрандіозне розслідування по розкраданню складів медикаментів.\n",
      "Ефект луошґог зумів розірвати подвійну оболонку клітини Пешєн.\n",
      "У марсіанському ресторані Бушжер подали страву Бушїнів.\n",
      "Бубуїн Гушйон проспівав бубуїнську пісню Кушщуб Щущвай.\n",
      "Небо потемніло, а земля вкрилася кощгномійським туманом.\n",
      "Іщґиґун врятував Дущдуна від шипів Пущжинських нарвалів.\n",
      "У єдиний кущ їжаки перетягнули рідкісний кристал Хіщїж.\n",
      "Не кожна людина зможе вимовити закляття Тущйощляк Бущрущфундек.\n",
      "Тисячу Пащхидів повернулася у рідне місто Пащхид.\n",
      "Метод Цущцин допомагає науковцям реєструвати та розпізнавати усі види елементарних частинок.\n",
      "У жертвопреношенні період під час повного місяця має назву Щищчич.\n",
      "У туманності Сищшон за незрозумілих причин стався потужний вибух зірки Фущщуф.\n",
      "Подружжя Сюиріїв домоглися отримати право на Шяинь.\n",
      "Під час барбекю Рапунцель через котлети з крокодила кілька раз фиркнула.\n",
      "Парламент зробив перший крок до захисту інвестскладової рахунків підприємств з оргскла.\n",
      "Під час штукарства було виявлено топографічні карти з дивним берґштрихом.\n",
      "Армстронг у постскриптумі нагадав про звання Штурмгауптфюрер і Гауптштурмфюрер.\n",
      "Пастух описав трьохскладову методику страхування в Укрдержстрах.\n",
      "Затишшя ландскнехтам була розкішшю.\n",
      "Я бачив як ти безгрішно асфальтуєшся.\n",
      "Тамтешній сценаристці не сподобалося  їсти суфле на танцмайданчику.\n",
      "Музей показав шматочок шкірзамінника з оригінальним шрифтом.\n",
      "Мешканці села Язлівчик намалювали аквареллю велику картину румбамбара.\n",
      "Хлопчина тупав ногами об підлогу з надією що сверблячка мине.\n",
      "Розчісувавши срібним гребінцем дівчина приховувала своє розчарування.\n",
      "Обшарпаний студент отримав завдання оббігти перешкоди та зберегти воду у колбочці.\n",
      "Верхньобогданівець спіймав гігантського Беззубка.\n",
      "Шлюпбалка допомогла реквізиторці сформувати безтарифну систему оплати.\n",
      "Потрібно відшкребти згорівшу шипшину, потовкти її та аж потім нею обмажся з ніг до голови.\n",
      "У Нюрнберґ привезли спецпризначенця з діагнозом Міжхребцева Грижа.\n",
      "У соцслужбі побачивши фрагментоване підборіддя спричинило масовий ґвалт.\n",
      "Це було важко відгребти, щоб вгребтися.\n",
      "Він став вбачливим коли приїхав до друзів у Шпіцберген.\n",
      "Як ти можеш обґрунтувати що під час рентгенологічного дослідження рентгенолог схибив.\n",
      "Бджілка сподівалася отримати титул пфальцграф якщо подзижчить на футболці.\n",
      "Безглуздо йому втовкмачувати  що дезінфекція взимку теж потрібна.\n",
      "Я розумію що вщухає наше мрійництво та легковажність.\n",
      "Копперфілд обпікшись затьохкав через деякий час.\n",
      "Ти забагато обгрібся екземплярами алгоритмів.\n",
      "Обстежмо цей надміцний камінь як цього хотів жрець.\n",
      "Міжвідомча комісія сприяє облаштуванню освітніх закладів села Липняжка.\n",
      "Підтягши пачку йодованої солі Блейк Керрінгтон запропонував обсмажити.\n",
      "Шицзячжуан у підтримці Тхімпху відщипнули шматок сала.\n",
      "Психувавши я не розрізнила синхроциклотрон та синхрофазотрон.\n",
      "Анджеліна розцвіла коли отримала трьохшвидкісний ровер.\n",
      "Сидячи на дзиґлику Йосип швидко підмазував ґлеєм поки ґніт догорав.\n",
      "Ввезення футболок для хлопців продовжено до завершення матчу між Гватемалою та Францією.\n",
      "Переможцям необхідно вже зменшити абонплату.\n",
      "Я страждав бачачи рахунок після масштабного обчислення.\n",
      "Взявши у шафці шарф Ґжеґож тихцем пішов на мітинґ.\n",
      "Субфебрильна температура не вплинула на арифметичні дії що також включало лічбу видів борщу.\n",
      "Отже, гусак ґелґоче коли ми чхаємо.\n",
      "Приголомшений бухгалтер безжально бив електролобзиком по дошці.\n",
      "Покращте свої способи розфарбовування, щоб вони не здавалися нікчемними.\n",
      "Обвинувачений не загасив полум'я після обжарювання  що в подальшому спалило ячмінні поля.\n",
      "Вибачте, але це анекдот коли в общині говорять що ріпка є примхлива, а підхід до її викорчовування є чисто символічним.\n",
      "На міжшкільному конкурсі у комісії виникло протиріччя у методі хімічному розщепленні відходів.\n",
      "Скоріш обсипмо золотом Зіґфріда сина Зіґмунда і Зіґлінд.\n",
      "Бурґгардт та Віґфуссон вважали роздуми натщесерце понижує межі сприйняття.\n",
      "Алфея та автогонщик отримали від селищної ради дозвіл на пошуки алмазних каменів біля спортзалу.\n",
      "Безглуздо розхвалювати свій штовхач який начебто зумів перевезти Вакху з Аугсбургу до Ашгабату.\n",
      "Та давай вже долущмо горіхи та гляним зі Стефкою регбі.\n",
      "Як же я любив дивитися на обличчя  Вахмістра коли йому пояснював про виникнення апвелінгів.\n",
      "Білчина багатожанровість сильно проявилася у неймовірній історії про хлопчика Ацетилхлорид і його друга Алкілсульфат.\n",
      "Це класно б було якби розширенням безґрунтових технологій займалися у Шумщині.\n",
      "Приземлившись у Схіпгол Джованні Боккаччо попросив Яцка з Ужгорода відформатувати флешпам'ять.\n",
      "Це само собою зрозуміло що Надволжя підпадає під юрисдикцію України.\n",
      "Куме, куме я бачив на блокпосту що на адмінмежі як Бітлз зробили автограф на біфштексі.\n",
      "Філософське осмислювання світу скіфським царем заставило бігцем сховатися до шхуни.\n",
      "Під час імміграції Зігфрід і Ніцше прочитали п'ятдесят книг.\n",
      "Три чверті бікфордового шнура було достатньо щоб Хаґґітин його підпалив.\n",
      "Сімдесят раз обдумав і не розумію як ти виміряєш відстань горщками від нас до пустища Шорфгайде.\n",
      "Ешбі насмілився здійснити міжзоряну подорож, щоб вдаючись до евфуїзму продати напівфабрикат.\n",
      "В околиць Вроцлава Гліб Гжицький вислухав Парасчину історію як у Ніцці наші дами шукала болштихель.\n",
      "Каффи отягчив себе думкою, проте як доставити пемзу з хімфармзаводу на Плацдарм, а халву для артполку.\n",
      "Частіше бачся з Меггі та окрім сухпайка не будеш відчувати дисгармонію через її барельєфчик.\n",
      "Ці пропахчені деталі будуть окрихчуватися на машзаводі.\n",
      "Стою на кружґанку товчу у ковґанку з думками про зиґзаґуваті патьоки.\n",
      "Моє чрево бурмотіло від очікування страв і не зважало що столи з ґінкга обстелені крапдешином.\n",
      "Сюжету про те як Басзунд у Ґдині за підтримки облради створив спецфонд для скіпщиків є дуже захоплюючим.\n",
      "Попереджаю що цистерну зі спецрозчин для алніко потрібно перехватити у місті Ломжа.\n",
      "Рятуючи своє кохання Хохха і Межфар сховали себе і своє село Нугпала наклавши закляття \"Візуалка Знищся\".\n",
      "Так звучить допоможіть на планеті аґбоґ: оґталпа оґталпа оґталпа учпа ущбоґт ущбоґт ущбоґт учпа оґталпа оґталпа оґталпа.\n",
      "Ця тварина є схрещенням Уґсафбінського тигра з Ершфафцжинським оленем.\n",
      "Підеш прямо і побачиш кафе 'Ергхамі' біля кафе стоятиме Йоґкутський камінь з написом Їитґухжа.\n",
      "Дивний сон мені приснився де бабуся рясно вдіта у ягоди, тюлень співає про любов Євгенії та Валер'яна, заєць малює буряк з яблуком, а в'юн затіяв хатнє прибирання.\n",
      "Екскурсійний автобус буде їхати до зупинки метро 'Площа Льва Толстого', 'Університет', 'Театральна'.\n",
      "Побоюючись зайвої ваги краще з'їсти половинку грейпфрута перед їдою, бо  цей фрукт спалює жир вважає Кайлі Міноуг.\n",
      "Відрядження дасть мені відвідати Бельгію, Польщу та Швейцарію.\n",
      "Цієї суботи Сєчко та Тигєр взяли участь з дзюдо.\n"
     ]
    }
   ],
   "source": [
    "for s in opt_sent:\n",
    "    print(s)"
   ]
  },
  {
   "cell_type": "code",
   "execution_count": null,
   "id": "86c86c95-b02c-4234-a36e-bb87406aeebf",
   "metadata": {},
   "outputs": [],
   "source": []
  }
 ],
 "metadata": {
  "kernelspec": {
   "display_name": "pytorch",
   "language": "python",
   "name": "pytorch"
  },
  "language_info": {
   "codemirror_mode": {
    "name": "ipython",
    "version": 3
   },
   "file_extension": ".py",
   "mimetype": "text/x-python",
   "name": "python",
   "nbconvert_exporter": "python",
   "pygments_lexer": "ipython3",
   "version": "3.8.13"
  }
 },
 "nbformat": 4,
 "nbformat_minor": 5
}
